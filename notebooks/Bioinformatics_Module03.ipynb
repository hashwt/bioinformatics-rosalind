{
  "nbformat": 4,
  "nbformat_minor": 0,
  "metadata": {
    "colab": {
      "provenance": [],
      "collapsed_sections": [
        "jYlnA2Z2FhoW",
        "qRj8vCvXG-1k",
        "s7deJQCHHwOa",
        "GtjxkNHWN5Xo",
        "3yswDberkE7N",
        "4IM-9eAGkPdi",
        "nlBbe3qBRH_J",
        "_F9KCUzCd3ID",
        "iHFNxm30lzic",
        "sOgq54Op4MZL",
        "R5_dYi9f6t1z",
        "LdtXZ0LW9ugo",
        "i4Fo-ddSKWwy",
        "iupO8iI-ZYAe",
        "lY924yM0jckW",
        "NvqGEl4JjpiO",
        "DHzE7CI4lWGw",
        "WD5wnvQkmh6E",
        "kApNvgOLn8lp",
        "kq9QbEttnA4h"
      ]
    },
    "kernelspec": {
      "name": "python3",
      "display_name": "Python 3"
    },
    "language_info": {
      "name": "python"
    }
  },
  "cells": [
    {
      "cell_type": "markdown",
      "source": [
        "# **<font color=blue>P1.** </font>Rename this notebook **Bioinformatics_Module03.ipynb </font><br>**"
      ],
      "metadata": {
        "id": "l3h89jAYBUzz"
      }
    },
    {
      "cell_type": "markdown",
      "source": [
        "# **<font color=blue>P2. </font>**```print()```writes to standard output (i.e. prints output to the screen)"
      ],
      "metadata": {
        "id": "jYlnA2Z2FhoW"
      }
    },
    {
      "cell_type": "markdown",
      "source": [
        "####**TASK P2.1:** Print <font color = magenta>hello world</font>"
      ],
      "metadata": {
        "id": "r118fqQodA9x"
      }
    },
    {
      "cell_type": "code",
      "source": [
        "print(\"hello world\")"
      ],
      "metadata": {
        "id": "kvxK8D5uFx_x",
        "outputId": "321dad56-2e3b-4b63-c1d2-898bc88c5117",
        "colab": {
          "base_uri": "https://localhost:8080/"
        }
      },
      "execution_count": 1,
      "outputs": [
        {
          "output_type": "stream",
          "name": "stdout",
          "text": [
            "hello world\n"
          ]
        }
      ]
    },
    {
      "cell_type": "markdown",
      "source": [
        "# **<font color=blue>P3. </font>**```=``` is the ASSIGNMENT operator (assigns values to variables)\n",
        "####**TASK P3.1:** Ask Gemini, \"*Give me 3 examples to help practice understanding the assignment operator.*\""
      ],
      "metadata": {
        "id": "qRj8vCvXG-1k"
      }
    },
    {
      "cell_type": "code",
      "source": [
        "x=5\n",
        "x\n",
        "\n",
        "#asked gemini  \"Give me 3 examples to help practice understanding the assignment operator.\"\n",
        "#example 1\n",
        "x = 10\n",
        "print(x)\n",
        "\n",
        "#example 2\n",
        "x = 5   # x is now 5\n",
        "print(x)\n",
        "\n",
        "x = 15  # x is now 15; the old value is gone\n",
        "print(x)\n",
        "\n",
        "\n",
        "#example 3\n",
        "x = 20\n",
        "y = x   # y is now a copy of the value in x, which is 20\n",
        "print(y)\n",
        "\n",
        "x = 30  # We change the value of x\n",
        "print(x)\n",
        "\n",
        "print(y) # The value of y remains unchanged at 20"
      ],
      "metadata": {
        "id": "VB8HPNe7JpuJ",
        "colab": {
          "base_uri": "https://localhost:8080/"
        },
        "outputId": "04b92761-b3bb-4f48-f075-4c91e77f3203"
      },
      "execution_count": 12,
      "outputs": [
        {
          "output_type": "stream",
          "name": "stdout",
          "text": [
            "10\n",
            "5\n",
            "15\n",
            "20\n",
            "30\n",
            "20\n"
          ]
        }
      ]
    },
    {
      "cell_type": "markdown",
      "source": [
        "# **<font color=blue>P4. </font>** Data types: use ```type()``` to find a variable's \"type\"\n",
        "####**TASK P4.1:** Ask Gemini, \"*Give me examples of each data type to see how they look as outputs.*\""
      ],
      "metadata": {
        "id": "s7deJQCHHwOa"
      }
    },
    {
      "cell_type": "code",
      "source": [
        "type(x)\n",
        "\n",
        "#task\n",
        "#asked gemini examples\n",
        "\n",
        "#str string Text, like a word or sentence\n",
        "x = \"hello\"\n",
        "print(type(x))\n",
        "\n",
        "#int integer: whole numbers\n",
        "x = 10\n",
        "print(type(x))\n",
        "\n",
        "#float (floating-point number): Numbers with a decimal point\n",
        "x = 10.5\n",
        "print(type(x))\n",
        "\n",
        "#bool (boolean): A value that is either True or False\n",
        "x = True\n",
        "print(type(x))"
      ],
      "metadata": {
        "colab": {
          "base_uri": "https://localhost:8080/"
        },
        "id": "ktR75uWIJ0uc",
        "outputId": "c35077fa-5ed2-4f11-8ece-27a1af21ded7"
      },
      "execution_count": 16,
      "outputs": [
        {
          "output_type": "stream",
          "name": "stdout",
          "text": [
            "<class 'str'>\n",
            "<class 'int'>\n",
            "<class 'float'>\n",
            "<class 'bool'>\n"
          ]
        }
      ]
    },
    {
      "cell_type": "markdown",
      "source": [
        "# **<font color=blue>P5. </font>** Arithmetic and comparison operators\n",
        "####**TASK P5.1:**   Complete Rosalind #1"
      ],
      "metadata": {
        "id": "GtjxkNHWN5Xo"
      }
    },
    {
      "cell_type": "code",
      "source": [
        "y=2+3\n",
        "print(y)\n",
        "x==y"
      ],
      "metadata": {
        "id": "45s9c4vyQm2U",
        "colab": {
          "base_uri": "https://localhost:8080/"
        },
        "outputId": "faff31e5-c3f6-49f7-d6c3-5ba3e20b7944"
      },
      "execution_count": 5,
      "outputs": [
        {
          "output_type": "stream",
          "name": "stdout",
          "text": [
            "5\n"
          ]
        },
        {
          "output_type": "execute_result",
          "data": {
            "text/plain": [
              "True"
            ]
          },
          "metadata": {},
          "execution_count": 5
        }
      ]
    },
    {
      "cell_type": "markdown",
      "source": [
        "# **<font color=blue>P6. </font>** ```input()``` gets input from the user"
      ],
      "metadata": {
        "id": "3yswDberkE7N"
      }
    },
    {
      "cell_type": "markdown",
      "source": [
        "TASK P6.1"
      ],
      "metadata": {
        "id": "z97rSY9gqdad"
      }
    },
    {
      "cell_type": "code",
      "metadata": {
        "colab": {
          "base_uri": "https://localhost:8080/"
        },
        "id": "d91046dd",
        "outputId": "b16d0a6f-6e35-45b1-b695-057256f9a54f"
      },
      "source": [
        "name = input(\"Enter your name: \")\n",
        "print(\"Hello, \" + name)"
      ],
      "execution_count": 18,
      "outputs": [
        {
          "output_type": "stream",
          "name": "stdout",
          "text": [
            "Enter your name: Harshil\n",
            "Hello, Harshil\n"
          ]
        }
      ]
    },
    {
      "cell_type": "markdown",
      "source": [
        "####**TASK P6.1:** Solve Rosalind #1 again, but get user input for the values of a and b rather than modifying the code."
      ],
      "metadata": {
        "id": "e3LaAQeLRmE6"
      }
    },
    {
      "cell_type": "code",
      "source": [
        "a= int(input(\"enter a value for a:\"))\n",
        "b= int(input(\"enter a value for b:\"))\n",
        "c=a**2+b**2\n",
        "print (\"The sq of the hypotenuse is\",c)"
      ],
      "metadata": {
        "id": "wZ0XL0L6Rq2H",
        "colab": {
          "base_uri": "https://localhost:8080/"
        },
        "outputId": "70e33c1d-10fd-4088-cf42-6cab2de5deb7"
      },
      "execution_count": 22,
      "outputs": [
        {
          "output_type": "stream",
          "name": "stdout",
          "text": [
            "enter a value for a:918\n",
            "enter a value for b:942\n",
            "The sq of the hypotenuse is 1730088\n"
          ]
        }
      ]
    },
    {
      "cell_type": "markdown",
      "source": [
        "# **<font color=blue>P7. </font>** ```list``` type variables (create, replace, append)"
      ],
      "metadata": {
        "id": "4IM-9eAGkPdi"
      }
    },
    {
      "cell_type": "markdown",
      "source": [
        "####**TASK P7.1**"
      ],
      "metadata": {
        "id": "DhNGdYK6NEpe"
      }
    },
    {
      "cell_type": "code",
      "source": [
        "# Create a list with 3 elements and then print them\n",
        "\n",
        "my_list = [\"Hello\", \"World\", \"Charles Darwin\"]\n",
        "print (my_list[1])"
      ],
      "metadata": {
        "id": "N3VRRQIEkXuP",
        "colab": {
          "base_uri": "https://localhost:8080/"
        },
        "outputId": "f9cd7f66-407b-40d9-e908-93d19b0038f2"
      },
      "execution_count": 19,
      "outputs": [
        {
          "output_type": "stream",
          "name": "stdout",
          "text": [
            "World\n"
          ]
        }
      ]
    },
    {
      "cell_type": "markdown",
      "source": [
        "####**TASK P7.2**"
      ],
      "metadata": {
        "id": "Yn3bAoi8NKy5"
      }
    },
    {
      "cell_type": "code",
      "source": [
        "# Substitute the item at index 2 in the list\n",
        "my_list[2] = \"Alfred R. Wallace\"\n",
        "print (my_list)"
      ],
      "metadata": {
        "id": "WNnsUuduOKbI",
        "colab": {
          "base_uri": "https://localhost:8080/"
        },
        "outputId": "a8013bf1-5f00-4241-9638-44db7bcd8f6e"
      },
      "execution_count": 21,
      "outputs": [
        {
          "output_type": "stream",
          "name": "stdout",
          "text": [
            "['Hello', 'World', 'Alfred R. Wallace']\n"
          ]
        }
      ]
    },
    {
      "cell_type": "markdown",
      "source": [
        "####**TASK P7.3**"
      ],
      "metadata": {
        "id": "SxiMMNLyPwGV"
      }
    },
    {
      "cell_type": "code",
      "source": [
        "# Append an item to the end of the list\n",
        "my_list.append(\"Charles Darwin\")\n",
        "print (my_list)"
      ],
      "metadata": {
        "id": "3VrLc6CGQTi-",
        "colab": {
          "base_uri": "https://localhost:8080/"
        },
        "outputId": "42833b94-6bf2-4a68-aa96-6d20a30e7563"
      },
      "execution_count": 23,
      "outputs": [
        {
          "output_type": "stream",
          "name": "stdout",
          "text": [
            "['Hello', 'World', 'Alfred R. Wallace', 'Charles Darwin']\n"
          ]
        }
      ]
    },
    {
      "cell_type": "markdown",
      "source": [
        "####**TASK P7.4**. Ask Gemini how to <font color=crimson>```insert```</font> a new item at index 1 in the list"
      ],
      "metadata": {
        "id": "XQKmwgbfQond"
      }
    },
    {
      "cell_type": "code",
      "source": [
        "# On line #2 insert an item at index 1 of my_list\n",
        "my_list.insert(1, 'Bioinformatics')\n",
        "print (my_list)"
      ],
      "metadata": {
        "id": "u0maP5CZZN13",
        "colab": {
          "base_uri": "https://localhost:8080/"
        },
        "outputId": "9fadbea0-5d61-4b40-9262-267cb464cfcc"
      },
      "execution_count": 26,
      "outputs": [
        {
          "output_type": "stream",
          "name": "stdout",
          "text": [
            "['Hello', 'Bioinformatics', 'World', 'Alfred R. Wallace', 'Charles Darwin']\n"
          ]
        }
      ]
    },
    {
      "cell_type": "markdown",
      "source": [
        "# **<font color=blue>P8. </font>** Slicing lists and strings"
      ],
      "metadata": {
        "id": "nlBbe3qBRH_J"
      }
    },
    {
      "cell_type": "markdown",
      "source": [
        "####**TASK P8.1** Slice and print only the middle two elements from the list created in P7 (i.e. only <font color=magenta>World</font> and <font color=magenta>Alfred R. Wallace</font>).  "
      ],
      "metadata": {
        "id": "M0YW2MP0WtuI"
      }
    },
    {
      "cell_type": "code",
      "source": [
        "print (my_list[2:4])"
      ],
      "metadata": {
        "colab": {
          "base_uri": "https://localhost:8080/"
        },
        "id": "Tp1djNtiaxSb",
        "outputId": "4a31ce1e-1575-4d0f-8860-6096ea8bad83"
      },
      "execution_count": null,
      "outputs": [
        {
          "output_type": "stream",
          "name": "stdout",
          "text": [
            "['World', 'Alfred R. Wallace']\n"
          ]
        }
      ]
    },
    {
      "cell_type": "markdown",
      "source": [
        "####**TASK P8.2**: Print <font color=magenta>Wallace World</font> from **my_string** by slicing\n"
      ],
      "metadata": {
        "id": "_F9KCUzCd3ID"
      }
    },
    {
      "cell_type": "code",
      "source": [
        "my_string = \"HelloWorldCharlesDarwinAlfred R. Walace\"\n",
        "print (my_string[0:5],my_string[5:10])\n",
        "\n",
        "# in the print command below input the correct index values to complete Task P8.2\n",
        "print (my_string[-6 : ],my_string[5:10])"
      ],
      "metadata": {
        "colab": {
          "base_uri": "https://localhost:8080/"
        },
        "id": "AafKngtba8En",
        "outputId": "59c145ff-d9a9-4ec4-8b74-f1edcdf62e38"
      },
      "execution_count": 28,
      "outputs": [
        {
          "output_type": "stream",
          "name": "stdout",
          "text": [
            "Hello World\n",
            "Walace World\n"
          ]
        }
      ]
    },
    {
      "cell_type": "markdown",
      "source": [
        "####**TASK P8.3**  **<font color = orange> Complete Rosalind Problem #2 Strings and Lists</font>**"
      ],
      "metadata": {
        "id": "2TTQVE-Xf8jR"
      }
    },
    {
      "cell_type": "code",
      "source": [
        "# Enter code for Rosalind 2 here:\n",
        "s = \"dqldswRTssgUNKIL4dX0ZDxEMHMugEoDBRBKEFhcqqAEban8fCkTWTOj2wZuUXzdL61dNZMargaritiferaOXqFYnpHzamwP48Fq3W24jPzPjSMydaurica314Ik4ypklGvwkbNFUuSPk1y7M7Qt2clqdrdeEOr8g8fHHZ2Y76H28fxug.\"\n",
        "a = 70\n",
        "b = 82\n",
        "c = 112\n",
        "d = 118\n",
        "\n",
        "# Slice the first part of the string from index a to b\n",
        "slice1 = s[a:b+1]\n",
        "\n",
        "# Slice the second part of the string from index c to d\n",
        "slice2 = s[c:d+1]\n",
        "\n",
        "# Combine the two slices with a space in between\n",
        "result = f\"{slice1} {slice2}\"\n",
        "\n",
        "print(result)"
      ],
      "metadata": {
        "id": "LI88f5RZh4GL",
        "colab": {
          "base_uri": "https://localhost:8080/"
        },
        "outputId": "c9064ff2-97ce-4263-fa6f-1d15a061d4db"
      },
      "execution_count": 29,
      "outputs": [
        {
          "output_type": "stream",
          "name": "stdout",
          "text": [
            "Margaritifera daurica\n"
          ]
        }
      ]
    },
    {
      "cell_type": "markdown",
      "source": [
        "####**<font color=crimson>TASK 8.4 Commit to GitHub**</font>*italicized text*"
      ],
      "metadata": {
        "id": "Tw6Pwh6TjwJ9"
      }
    },
    {
      "cell_type": "markdown",
      "source": [
        "# **<font color=blue>P9. </font>** ```if``` and ```else``` - conditional output"
      ],
      "metadata": {
        "id": "iHFNxm30lzic"
      }
    },
    {
      "cell_type": "markdown",
      "source": [
        "####**TASK P9.1** Create some code that subtracts two numbers if they are different or adds them if they are the same."
      ],
      "metadata": {
        "id": "WCXnGdftztbN"
      }
    },
    {
      "cell_type": "code",
      "source": [
        "a=5\n",
        "b=5\n",
        "\n",
        "if a!=b:\n",
        "  print(a-b)\n",
        "\n",
        "else:\n",
        "  print(a+b)"
      ],
      "metadata": {
        "id": "KabZsL5Fy8jJ",
        "colab": {
          "base_uri": "https://localhost:8080/"
        },
        "outputId": "4fb58ab3-c0c1-41e3-f97d-5ebf226fc51b"
      },
      "execution_count": 30,
      "outputs": [
        {
          "output_type": "stream",
          "name": "stdout",
          "text": [
            "10\n"
          ]
        }
      ]
    },
    {
      "cell_type": "markdown",
      "source": [
        "# **<font color=blue>P10.</font>** ```while``` loops"
      ],
      "metadata": {
        "id": "sOgq54Op4MZL"
      }
    },
    {
      "cell_type": "markdown",
      "source": [
        "####**TASK P10.1** Create a while loop that runs 3 times\n"
      ],
      "metadata": {
        "id": "JMqGqhTn4l9s"
      }
    },
    {
      "cell_type": "code",
      "source": [
        "#initiate a counter\n",
        "a = 1\n",
        "\n",
        "#print \"Counting!\" while a<=3\n",
        "while a <= 3:\n",
        "\n",
        "    print (\"Counting!\" * a)\n",
        "    a += 1"
      ],
      "metadata": {
        "id": "07YbiCGO4O1w",
        "colab": {
          "base_uri": "https://localhost:8080/"
        },
        "outputId": "1a7ac5c2-0dfd-4e8d-87bd-158658636be0"
      },
      "execution_count": 32,
      "outputs": [
        {
          "output_type": "stream",
          "name": "stdout",
          "text": [
            "Counting!\n",
            "Counting!Counting!\n",
            "Counting!Counting!Counting!\n"
          ]
        }
      ]
    },
    {
      "cell_type": "markdown",
      "source": [
        "# **<font color=blue>P11.</font>** ```for``` loops – looping over lists"
      ],
      "metadata": {
        "id": "R5_dYi9f6t1z"
      }
    },
    {
      "cell_type": "markdown",
      "source": [
        "####**TASK P11.1** Create a for loop to print each item in a list\n"
      ],
      "metadata": {
        "id": "x9F7v_V073wO"
      }
    },
    {
      "cell_type": "code",
      "source": [
        "names = [\"Alice\",\"Bob\",\"Charley\"]\n",
        "\n",
        "for name in names:\n",
        "    print (\"Hello\", name)"
      ],
      "metadata": {
        "id": "-aqaQ5hz70yo",
        "colab": {
          "base_uri": "https://localhost:8080/"
        },
        "outputId": "e170b205-6ad5-4bbb-dd5c-ee0190d9d968"
      },
      "execution_count": 33,
      "outputs": [
        {
          "output_type": "stream",
          "name": "stdout",
          "text": [
            "Hello Alice\n",
            "Hello Bob\n",
            "Hello Charley\n"
          ]
        }
      ]
    },
    {
      "cell_type": "markdown",
      "source": [
        "# **<font color=blue>P12.</font>** ```for``` loops over a ```range()```of numbers"
      ],
      "metadata": {
        "id": "LdtXZ0LW9ugo"
      }
    },
    {
      "cell_type": "markdown",
      "source": [
        "####**TASK 12.1** Using for and range(), create code that prints the numbers 0-9"
      ],
      "metadata": {
        "id": "jG6jvXEBDi4H"
      }
    },
    {
      "cell_type": "code",
      "source": [
        "# Create a variable to define the  number of iterations\n",
        "iterations = 10\n",
        "\n",
        "#Print the current item's value each time through the loop\n",
        "for number in range(iterations):\n",
        "    print (number)"
      ],
      "metadata": {
        "colab": {
          "base_uri": "https://localhost:8080/"
        },
        "id": "RFBXqQNu_E6X",
        "outputId": "0ec0340e-6a2d-4a9e-8192-53115aface5f"
      },
      "execution_count": 34,
      "outputs": [
        {
          "output_type": "stream",
          "name": "stdout",
          "text": [
            "0\n",
            "1\n",
            "2\n",
            "3\n",
            "4\n",
            "5\n",
            "6\n",
            "7\n",
            "8\n",
            "9\n"
          ]
        }
      ]
    },
    {
      "cell_type": "markdown",
      "source": [
        "####**TASK 12.2** Modify the code so that it only prints every 3rd number from 9 through 27 (i.e. including 27)"
      ],
      "metadata": {
        "id": "NRd5srR_G-PQ"
      }
    },
    {
      "cell_type": "code",
      "source": [
        "# Print every 3rd number from 9 through 27\n",
        "for number in range(9, 28, 3):\n",
        "    print(number)"
      ],
      "metadata": {
        "id": "irYTFPO-IRHo",
        "colab": {
          "base_uri": "https://localhost:8080/"
        },
        "outputId": "c5d9ec2e-68c9-47c8-94fd-8284b379b16e"
      },
      "execution_count": 36,
      "outputs": [
        {
          "output_type": "stream",
          "name": "stdout",
          "text": [
            "9\n",
            "12\n",
            "15\n",
            "18\n",
            "21\n",
            "24\n",
            "27\n"
          ]
        }
      ]
    },
    {
      "cell_type": "markdown",
      "source": [
        "####**TASK 12.3** <font color = orange> **Complete Rosalind Problem #3 Conditions and Loops** </font>"
      ],
      "metadata": {
        "id": "83jDEjpMHXUa"
      }
    },
    {
      "cell_type": "code",
      "source": [
        "# Enter code for Rosalind 3 here:\n",
        "a = 4173\n",
        "b = 9150\n",
        "\n",
        "#sum of odd numbers\n",
        "sum_odds = 0\n",
        "for number in range(a, b+1):\n",
        "    if number % 2 == 1:\n",
        "        sum_odds += number\n",
        "\n",
        "print(\"Sum of odd numbers from\", a, \"through\", b, \"is:\", sum_odds)\n"
      ],
      "metadata": {
        "id": "EI7hRtakG90R",
        "colab": {
          "base_uri": "https://localhost:8080/"
        },
        "outputId": "084790a6-e94b-40ca-99e9-db9494b55f83"
      },
      "execution_count": 37,
      "outputs": [
        {
          "output_type": "stream",
          "name": "stdout",
          "text": [
            "Sum of odd numbers from 4173 through 9150 is: 16579229\n"
          ]
        }
      ]
    },
    {
      "cell_type": "markdown",
      "source": [
        "####**<font color=crimson>TASK 12.4 Commit to GitHub**</font>"
      ],
      "metadata": {
        "id": "3P9DKNbPI1wp"
      }
    },
    {
      "cell_type": "markdown",
      "source": [
        "# **<font color=blue>P13.</font>** File I/O – with open(\"filename\", \"mode\") as filehandle:\n"
      ],
      "metadata": {
        "id": "i4Fo-ddSKWwy"
      }
    },
    {
      "cell_type": "markdown",
      "source": [
        "####**TASK P13.1** Use the ```read()``` function to print the <font color = orange>practice dataset from Rosalind #4</font>\n"
      ],
      "metadata": {
        "id": "sgc3wiQmLXcI"
      }
    },
    {
      "cell_type": "code",
      "source": [
        "with open(\"practice.txt\",\"r\") as data:\n",
        "\n",
        "    print(data.read())\n",
        "\n",
        "    print(data.readline())\n",
        "\n",
        "    print(data.readlines())"
      ],
      "metadata": {
        "id": "V5nzHsnULA_n",
        "colab": {
          "base_uri": "https://localhost:8080/"
        },
        "outputId": "06e97856-654c-4d20-d0fe-abc8e3fbfa3f"
      },
      "execution_count": 42,
      "outputs": [
        {
          "output_type": "stream",
          "name": "stdout",
          "text": [
            "Bravely bold Sir Robin rode forth from Camelot\n",
            "Yes, brave Sir Robin turned about\n",
            "He was not afraid to die, O brave Sir Robin\n",
            "And gallantly he chickened out\n",
            "He was not at all afraid to be killed in nasty ways\n",
            "Bravely talking to his feet\n",
            "Brave, brave, brave, brave Sir Robin\n",
            "He beat a very brave retreat\n",
            "\n",
            "[]\n"
          ]
        }
      ]
    },
    {
      "cell_type": "markdown",
      "source": [
        "####**TASK P13.2** Explore file object functions to read and print practice.txt"
      ],
      "metadata": {
        "id": "GLO6tBYNVzYZ"
      }
    },
    {
      "cell_type": "markdown",
      "source": [
        "#<font color=blue>**P14.**</font> Store the content, close the file, and join ( ) the list"
      ],
      "metadata": {
        "id": "iupO8iI-ZYAe"
      }
    },
    {
      "cell_type": "code",
      "source": [
        "with open(\"practice.txt\",\"r\") as data:\n",
        "\n",
        "  list_of_lines=data.readlines()\n",
        "\n",
        "print (list_of_lines)"
      ],
      "metadata": {
        "id": "8U5w2qOudDyp",
        "colab": {
          "base_uri": "https://localhost:8080/"
        },
        "outputId": "359d1059-fc38-47fc-f8e5-73894080f7ad"
      },
      "execution_count": 43,
      "outputs": [
        {
          "output_type": "stream",
          "name": "stdout",
          "text": [
            "['Bravely bold Sir Robin rode forth from Camelot\\n', 'Yes, brave Sir Robin turned about\\n', 'He was not afraid to die, O brave Sir Robin\\n', 'And gallantly he chickened out\\n', 'He was not at all afraid to be killed in nasty ways\\n', 'Bravely talking to his feet\\n', 'Brave, brave, brave, brave Sir Robin\\n', 'He beat a very brave retreat']\n"
          ]
        }
      ]
    },
    {
      "cell_type": "markdown",
      "source": [
        "####**TASK P14.1** Read practice.txt into a list of lines. Then, after the file is closed, use the join ( ) function to print the contents so it looks like the original input."
      ],
      "metadata": {
        "id": "5pPhGmQYiiKx"
      }
    },
    {
      "cell_type": "code",
      "source": [
        "# Open the file and read lines into a list\n",
        "with open('practice.txt', 'r') as file:\n",
        "    lines = file.readlines()\n",
        "# After the file is closed, join the lines into a single string and print\n",
        "print(''.join(lines))\n"
      ],
      "metadata": {
        "id": "XLvFZ9uSeyYH",
        "colab": {
          "base_uri": "https://localhost:8080/"
        },
        "outputId": "b692ef7d-ac2e-46ce-c129-357a8c0303c9"
      },
      "execution_count": 45,
      "outputs": [
        {
          "output_type": "stream",
          "name": "stdout",
          "text": [
            "Bravely bold Sir Robin rode forth from Camelot\n",
            "Yes, brave Sir Robin turned about\n",
            "He was not afraid to die, O brave Sir Robin\n",
            "And gallantly he chickened out\n",
            "He was not at all afraid to be killed in nasty ways\n",
            "Bravely talking to his feet\n",
            "Brave, brave, brave, brave Sir Robin\n",
            "He beat a very brave retreat\n"
          ]
        }
      ]
    },
    {
      "cell_type": "markdown",
      "source": [
        "#<font color=blue>**P15.**</font> Combining for loops with file objects"
      ],
      "metadata": {
        "id": "lY924yM0jckW"
      }
    },
    {
      "cell_type": "markdown",
      "source": [
        "####**TASK P15.1** Use a for loop to print each line in practice.txt"
      ],
      "metadata": {
        "id": "NvqGEl4JjpiO"
      }
    },
    {
      "cell_type": "code",
      "source": [
        "with open(\"practice.txt\",\"r\") as data:\n",
        "\n",
        "  for line in data:\n",
        "    print (line)"
      ],
      "metadata": {
        "id": "snY-10pUkMby",
        "colab": {
          "base_uri": "https://localhost:8080/"
        },
        "outputId": "620ec268-3d63-4311-bdb7-8d3ef2008590"
      },
      "execution_count": 46,
      "outputs": [
        {
          "output_type": "stream",
          "name": "stdout",
          "text": [
            "Bravely bold Sir Robin rode forth from Camelot\n",
            "\n",
            "Yes, brave Sir Robin turned about\n",
            "\n",
            "He was not afraid to die, O brave Sir Robin\n",
            "\n",
            "And gallantly he chickened out\n",
            "\n",
            "He was not at all afraid to be killed in nasty ways\n",
            "\n",
            "Bravely talking to his feet\n",
            "\n",
            "Brave, brave, brave, brave Sir Robin\n",
            "\n",
            "He beat a very brave retreat\n"
          ]
        }
      ]
    },
    {
      "cell_type": "markdown",
      "source": [
        "####**TASK P15.2** <font color=orange>**Complete Rosalind Problem #4 Working with Files**</font>\n"
      ],
      "metadata": {
        "id": "DHzE7CI4lWGw"
      }
    },
    {
      "cell_type": "code",
      "source": [
        "input_file = 'rosalind_ini5.txt'\n",
        "output_file = 'even_lines.txt'\n",
        "\n",
        "with open(input_file, 'r') as fin:\n",
        "    lines = fin.readlines()\n",
        "\n",
        "# lines[0] is line 1, lines[1] is line 2, so even lines have odd index in zero-based list\n",
        "even_lines = [lines[i] for i in range(len(lines)) if (i + 1) % 2 == 0]\n",
        "\n",
        "with open(output_file, 'w') as fout:\n",
        "    fout.writelines(even_lines)\n",
        "\n",
        "with open(output_file, 'r') as file:\n",
        "    even_lines_content = file.read()\n",
        "\n",
        "print(even_lines_content)"
      ],
      "metadata": {
        "id": "8QR9dRFtltBN",
        "colab": {
          "base_uri": "https://localhost:8080/"
        },
        "outputId": "b961c18b-8556-4032-c6b4-3195a40996ee"
      },
      "execution_count": 47,
      "outputs": [
        {
          "output_type": "stream",
          "name": "stdout",
          "text": [
            "Some things in life are bad, they can really make you mad\n",
            "Other things just make you swear and curse\n",
            "When you're chewing on life's gristle, don't grumble give a whistle\n",
            "This will help things turn out for the best\n",
            "Always look on the bright side of life\n",
            "Always look on the right side of life\n",
            "If life seems jolly rotten, there's something you've forgotten\n",
            "And that's to laugh and smile and dance and sing\n",
            "When you're feeling in the dumps, don't be silly, chumps\n",
            "Just purse your lips and whistle, that's the thing\n",
            "So, always look on the bright side of death\n",
            "Just before you draw your terminal breath\n",
            "Life's a counterfeit and when you look at it\n",
            "Life's a laugh and death's the joke, it's true\n",
            "You see, it's all a show, keep them laughing as you go\n",
            "Just remember the last laugh is on you\n",
            "Always look on the bright side of life\n",
            "And always look on the right side of life\n",
            "Always look on the bright side of life\n",
            "And always look on the right side of life\n",
            "\n"
          ]
        }
      ]
    },
    {
      "cell_type": "markdown",
      "source": [
        "####**<font color=crimson>TASK 15.4 Commit to GitHub**</font>"
      ],
      "metadata": {
        "id": "GJ_acW4WlwDn"
      }
    },
    {
      "cell_type": "markdown",
      "source": [
        "#<font color=blue>**P16.**</font> ```for word in line.split()``` – looping over strings and splitting by any delimiter"
      ],
      "metadata": {
        "id": "WD5wnvQkmh6E"
      }
    },
    {
      "cell_type": "markdown",
      "source": [
        "####**TASK P16.1** Print each word in the ROSALIND Problem #5 Sample Dataset on a separate line.\n"
      ],
      "metadata": {
        "id": "kApNvgOLn8lp"
      }
    },
    {
      "cell_type": "code",
      "source": [
        "with open(\"practice_5.txt\",\"r\") as data:\n",
        "\n",
        "  line=data.read()\n",
        "\n",
        "for word in line.split():\n",
        "    print (word)"
      ],
      "metadata": {
        "colab": {
          "base_uri": "https://localhost:8080/"
        },
        "id": "PBjyhwclpKoM",
        "outputId": "d53cb9f0-336a-40e7-a29b-6d8b5c51ac3a"
      },
      "execution_count": 52,
      "outputs": [
        {
          "output_type": "stream",
          "name": "stdout",
          "text": [
            "We\n",
            "tried\n",
            "list\n",
            "and\n",
            "we\n",
            "tried\n",
            "dicts\n",
            "also\n",
            "we\n",
            "tried\n",
            "Zen\n"
          ]
        }
      ]
    },
    {
      "cell_type": "markdown",
      "source": [
        "#<font color=blue>**P17.**</font> Python Dictionaries { }"
      ],
      "metadata": {
        "id": "kq9QbEttnA4h"
      }
    },
    {
      "cell_type": "markdown",
      "source": [
        "####**TASK 17.1** Create and print your first dictionary"
      ],
      "metadata": {
        "id": "lVudFQkZqJgh"
      }
    },
    {
      "cell_type": "code",
      "source": [
        "sequences = {\n",
        "    \"H.neandertalensis\":\"ACGTCGCTCTGCTA\",\n",
        "    \"H.sapiens\":\"ACGTCACTCTGCTA\"\n",
        "    }\n",
        "\n",
        "print (sequences)"
      ],
      "metadata": {
        "colab": {
          "base_uri": "https://localhost:8080/"
        },
        "id": "IzKFWDlgq6zo",
        "outputId": "1a4d0584-afcb-46ea-fac1-265bbc7bcd89"
      },
      "execution_count": null,
      "outputs": [
        {
          "output_type": "stream",
          "name": "stdout",
          "text": [
            "{'H.neandertalensis': 'ACGTCGCTCTGCTA', 'H.sapiens': 'ACGTCACTCTGCTA'}\n",
            "ACGTCACTCTGCTA\n",
            ">H.neandertalensis\n",
            "ACGTCGCTCTGCTA\n",
            ">H.sapiens\n",
            "ACGTCACTCTGCTA\n",
            ">P.troglodytes\n",
            "ACGTCACTCTCCTA\n",
            ">G.gorilla\n",
            "ACGTCCTCCTA\n",
            ">H.erectus\n",
            "ACGTCACTCTGCTA\n"
          ]
        },
        {
          "output_type": "execute_result",
          "data": {
            "text/plain": [
              "{'H.neandertalensis': 'ACGTCGCTCTGCTA',\n",
              " 'H.sapiens': 'ACGTCACTCTGCTA',\n",
              " 'P.troglodytes': 'ACGTCACTCTCCTA',\n",
              " 'G.gorilla': 'ACGTCCTCCTA',\n",
              " 'H.erectus': 'ACGTCACTCTGCTA'}"
            ]
          },
          "metadata": {},
          "execution_count": 60
        }
      ]
    },
    {
      "cell_type": "markdown",
      "source": [
        "#<font color=blue>**P18.**</font> Manipulating and printing dictionaries"
      ],
      "metadata": {
        "id": "OvqoT6UwnK0g"
      }
    },
    {
      "cell_type": "markdown",
      "source": [
        "####**TASK 18.1** Modify line 8 to create a fasta file of the hominid sequences"
      ],
      "metadata": {
        "id": "5Be2tcQRrjso"
      }
    },
    {
      "cell_type": "code",
      "source": [
        "sequences[\"P.troglodytes\"]=\"ACGTCACTCTCCTA\"\n",
        "\n",
        "sequences.update({\"G.gorilla\":\"ACGTCCTCCTA\", \"H.erectus\":\"ACGTCACTCTGCTA\"})\n",
        "\n",
        "print (sequences[\"H.sapiens\"])\n",
        "\n",
        "for key,value in sequences.items():\n",
        "     print (key,value)"
      ],
      "metadata": {
        "colab": {
          "base_uri": "https://localhost:8080/"
        },
        "id": "b-2XDof4rtP8",
        "outputId": "1e998098-f26e-4df1-fd79-38816a84ee15"
      },
      "execution_count": null,
      "outputs": [
        {
          "output_type": "stream",
          "name": "stdout",
          "text": [
            "ACGTCACTCTGCTA\n",
            "H.neandertalensis ACGTCGCTCTGCTA\n",
            "H.sapiens ACGTCACTCTGCTA\n",
            "P.troglodytes ACGTCACTCTCCTA\n",
            "G.gorilla ACGTCCTCCTA\n",
            "H.erectus ACGTCACTCTGCTA\n"
          ]
        }
      ]
    },
    {
      "cell_type": "markdown",
      "source": [
        "####**TASK P18.2** <font color= orange>**Complete Rosalind Problem #5  Dictionaries**</font>"
      ],
      "metadata": {
        "id": "Y98OZYUNvmWD"
      }
    },
    {
      "cell_type": "code",
      "source": [
        "s = \"\"\"When I find myself in times of trouble Mother Mary comes to me Speaking words of wisdom let it be And in my hour of darkness she is standing right in front of me Speaking words of wisdom let it be Let it be let it be let it be let it be Whisper words of wisdom let it be And when the broken hearted people living in the world agree There will be an answer let it be For though they may be parted there is still a chance that they will see There will be an answer let it be Let it be let it be let it be let it be There will be an answer let it be Let it be let it be let it be let it be Whisper words of wisdom let it be Let it be let it be let it be let it be Whisper words of wisdom let it be And when the night is cloudy there is still a light that shines on me Shine until tomorrow let it be I wake up to the sound of music Mother Mary comes to me Speaking words of wisdom let it be Let it be let it be let it be yeah let it be There will be an answer let it be Let it be let it be let it be yeah let it be Whisper words of wisdom let it be\n",
        " \"\"\"\n",
        "\n",
        "word_counts = {}\n",
        "\n",
        "# Count occurrences\n",
        "for word in s.split():\n",
        "    if word in word_counts:\n",
        "        word_counts[word] += 1\n",
        "    else:\n",
        "        word_counts[word] = 1\n",
        "\n",
        "# Write the output to a text file\n",
        "with open('output.txt', 'w') as f:\n",
        "    for key, value in word_counts.items():\n",
        "        print(key, value)\n",
        "        f.write(f\"{key} {value}\\n\")"
      ],
      "metadata": {
        "id": "lD3KoTY9wWa7",
        "colab": {
          "base_uri": "https://localhost:8080/"
        },
        "outputId": "e589feb3-d311-4623-d909-648583c9d9b9"
      },
      "execution_count": 53,
      "outputs": [
        {
          "output_type": "stream",
          "name": "stdout",
          "text": [
            "When 1\n",
            "I 2\n",
            "find 1\n",
            "myself 1\n",
            "in 4\n",
            "times 1\n",
            "of 11\n",
            "trouble 1\n",
            "Mother 2\n",
            "Mary 2\n",
            "comes 2\n",
            "to 3\n",
            "me 4\n",
            "Speaking 3\n",
            "words 7\n",
            "wisdom 7\n",
            "let 30\n",
            "it 36\n",
            "be 41\n",
            "And 3\n",
            "my 1\n",
            "hour 1\n",
            "darkness 1\n",
            "she 1\n",
            "is 4\n",
            "standing 1\n",
            "right 1\n",
            "front 1\n",
            "Let 6\n",
            "Whisper 4\n",
            "when 2\n",
            "the 4\n",
            "broken 1\n",
            "hearted 1\n",
            "people 1\n",
            "living 1\n",
            "world 1\n",
            "agree 1\n",
            "There 4\n",
            "will 5\n",
            "an 4\n",
            "answer 4\n",
            "For 1\n",
            "though 1\n",
            "they 2\n",
            "may 1\n",
            "parted 1\n",
            "there 2\n",
            "still 2\n",
            "a 2\n",
            "chance 1\n",
            "that 2\n",
            "see 1\n",
            "night 1\n",
            "cloudy 1\n",
            "light 1\n",
            "shines 1\n",
            "on 1\n",
            "Shine 1\n",
            "until 1\n",
            "tomorrow 1\n",
            "wake 1\n",
            "up 1\n",
            "sound 1\n",
            "music 1\n",
            "yeah 2\n"
          ]
        }
      ]
    },
    {
      "cell_type": "markdown",
      "source": [
        "####**<font color=crimson>TASK 18.3 Commit to GitHub**</font>"
      ],
      "metadata": {
        "id": "1dJdfy4bwVO4"
      }
    },
    {
      "cell_type": "markdown",
      "source": [
        "#<font color=blue>**P19.**</font> ```count()``` – counting things made easy"
      ],
      "metadata": {
        "id": "28ygQlYJnZoA"
      }
    },
    {
      "cell_type": "markdown",
      "source": [
        "####**TASK P19.1** <font color= orange>**Complete Rosalind Problem #6  Counting DNA Nucleotides**</font>"
      ],
      "metadata": {
        "id": "CZ9tBWDmw4D-"
      }
    },
    {
      "cell_type": "code",
      "source": [
        "#given dna\n",
        "dna='''CTGTAGTGACCTAGCGTACGTACTCTAGACCCTCTCACGGGCATGATGCACACCCTATTTATAGAACCCTTGGGCTAGTGAGCACACCTGGACGAGTAACGCCGTTTTTTCAGTTCTTAGGTTAGACCTAGCGATAACGCTCGAGCGAAGCACGGGCTCCTATGGAGTATACTATAACTGCCGAAAAACCCGTACCGACCGCTGGGTCTAGGATATTTATTCTATTCTCTTCCAGGTCTCAAAACTACATACCGTCTCTGTATTAGCCTGCGATGATGAGAGCGGTGGGTGAATGGGGCGTTGGGCTAGTACAACGCCAGTATAAGGCACGAGCTCAGCGGGACTCCAGGTCACCGAGTTTGGTTCTCATCTTTATACTGAATGGCATTCATTATATATTTACCGACTTGGACGTACTGGGACGTTCAAGCGCCGTTTTATCACTCGACTCCCGACAGATAATATAAATATAGTACGGCCTTGACTGTTCCGAACTAGAGACTTAAACATCGATTTAAGGCAAACCTCTTTTGGACAATACTAACTGAAGTAGGAATGTCTAGATTGCCAGCCAGTCTTGAAGCGGGGTGGCTTCAGCCAGATAACAAGTAGTCTAGTCCCTGGTGATAGTTGAAGCGAACACGCCTAGAGATCATAAAAAGACTGTTACCCGCTCAGCCGAGATGTTTATCTATAAGTAACCCCCATCCGTCGGCGCAGGGCCGCACGGGAGCATGGGCGTTCGCATCCGTATGCAGTTTGTCCTGTGAACCGGCACCGACGTCAGCAGTCTCTCGGAGACCTCTACCGTGATACGAGTCTCTTACTCCGAGACCTTACTAATCGGATAGACGAGAGCCGGCCATTGATACGCGGGAAACTATCAGCTCAGCAAGGCCTTACTCGTTGCAATTCATCATTAGAACGAGATCTGGAGAGCCAGAACG\n",
        "'''\n",
        "# Count occurrences of each base\n",
        "count_A = dna.count('A')\n",
        "count_C = dna.count('C')\n",
        "count_G = dna.count('G')\n",
        "count_T = dna.count('T')\n",
        "\n",
        "# Printing counts\n",
        "print(count_A, count_C, count_G, count_T)\n"
      ],
      "metadata": {
        "id": "GlwS14zGxBIC",
        "colab": {
          "base_uri": "https://localhost:8080/"
        },
        "outputId": "7ff3e987-aa82-4b11-d169-be3441636ad0"
      },
      "execution_count": 54,
      "outputs": [
        {
          "output_type": "stream",
          "name": "stdout",
          "text": [
            "245 237 230 235\n"
          ]
        }
      ]
    },
    {
      "cell_type": "markdown",
      "source": [
        "####**TASK P19.2** Modify your code for the Rosalind #5 Dictionary problem so that it uses count( ) to count the words."
      ],
      "metadata": {
        "id": "rj-OWB6Jym5y"
      }
    },
    {
      "cell_type": "code",
      "source": [
        "s = \"\"\"When I find myself in times of trouble Mother Mary comes to me Speaking words of wisdom let it be And in my hour of darkness she is standing right in front of me Speaking words of wisdom let it be Let it be let it be let it be let it be Whisper words of wisdom let it be And when the broken hearted people living in the world agree There will be an answer let it be For though they may be parted there is still a chance that they will see There will be an answer let it be Let it be let it be let it be let it be There will be an answer let it be Let it be let it be let it be let it be Whisper words of wisdom let it be Let it be let it be let it be let it be Whisper words of wisdom let it be And when the night is cloudy there is still a light that shines on me Shine until tomorrow let it be I wake up to the sound of music Mother Mary comes to me Speaking words of wisdom let it be Let it be let it be let it be yeah let it be There will be an answer let it be Let it be let it be let it be yeah let it be Whisper words of wisdom let it be\n",
        " \"\"\"\n",
        "\n",
        "words = s.split()  # Split string into words\n",
        "word_counts = {}\n",
        "\n",
        "# Use set(words) to get unique words and count each using count() method\n",
        "for word in set(words):\n",
        "    word_counts[word] = words.count(word)\n",
        "\n",
        "# Output results and write to file\n",
        "with open('output.txt', 'w') as f:\n",
        "    for key, value in word_counts.items():\n",
        "        print(key, value)\n",
        "        f.write(f\"{key} {value}\\n\")\n"
      ],
      "metadata": {
        "id": "9H_S6jLnzfxR",
        "colab": {
          "base_uri": "https://localhost:8080/"
        },
        "outputId": "f8be8641-7769-442d-a377-9a32f6b3a4a1"
      },
      "execution_count": 56,
      "outputs": [
        {
          "output_type": "stream",
          "name": "stdout",
          "text": [
            "find 1\n",
            "myself 1\n",
            "When 1\n",
            "be 41\n",
            "is 4\n",
            "Whisper 4\n",
            "yeah 2\n",
            "hour 1\n",
            "let 30\n",
            "right 1\n",
            "when 2\n",
            "living 1\n",
            "they 2\n",
            "in 4\n",
            "there 2\n",
            "broken 1\n",
            "night 1\n",
            "on 1\n",
            "times 1\n",
            "For 1\n",
            "cloudy 1\n",
            "will 5\n",
            "trouble 1\n",
            "the 4\n",
            "my 1\n",
            "still 2\n",
            "to 3\n",
            "answer 4\n",
            "There 4\n",
            "me 4\n",
            "words 7\n",
            "though 1\n",
            "a 2\n",
            "light 1\n",
            "music 1\n",
            "of 11\n",
            "until 1\n",
            "Mary 2\n",
            "front 1\n",
            "it 36\n",
            "tomorrow 1\n",
            "Speaking 3\n",
            "agree 1\n",
            "sound 1\n",
            "Mother 2\n",
            "Let 6\n",
            "she 1\n",
            "parted 1\n",
            "that 2\n",
            "people 1\n",
            "up 1\n",
            "chance 1\n",
            "may 1\n",
            "I 2\n",
            "world 1\n",
            "comes 2\n",
            "wake 1\n",
            "see 1\n",
            "an 4\n",
            "shines 1\n",
            "hearted 1\n",
            "Shine 1\n",
            "standing 1\n",
            "And 3\n",
            "wisdom 7\n",
            "darkness 1\n"
          ]
        }
      ]
    },
    {
      "cell_type": "markdown",
      "source": [
        "####**<font color=crimson>TASK 19.3 Commit to GitHub**</font>\n"
      ],
      "metadata": {
        "id": "RzMon_wAzg7D"
      }
    },
    {
      "cell_type": "markdown",
      "source": [
        "#<font color=blue>**P20.**</font> Installing biopython"
      ],
      "metadata": {
        "id": "-IB0c2gG0Z1O"
      }
    },
    {
      "cell_type": "code",
      "source": [
        "!pip install biopython"
      ],
      "metadata": {
        "colab": {
          "base_uri": "https://localhost:8080/"
        },
        "id": "pinPQdEn0mJM",
        "outputId": "58cc63a2-11cc-4842-ae6f-c0617cfd489e"
      },
      "execution_count": 57,
      "outputs": [
        {
          "output_type": "stream",
          "name": "stdout",
          "text": [
            "Collecting biopython\n",
            "  Downloading biopython-1.85-cp312-cp312-manylinux_2_17_x86_64.manylinux2014_x86_64.whl.metadata (13 kB)\n",
            "Requirement already satisfied: numpy in /usr/local/lib/python3.12/dist-packages (from biopython) (2.0.2)\n",
            "Downloading biopython-1.85-cp312-cp312-manylinux_2_17_x86_64.manylinux2014_x86_64.whl (3.3 MB)\n",
            "\u001b[2K   \u001b[90m━━━━━━━━━━━━━━━━━━━━━━━━━━━━━━━━━━━━━━━━\u001b[0m \u001b[32m3.3/3.3 MB\u001b[0m \u001b[31m34.6 MB/s\u001b[0m eta \u001b[36m0:00:00\u001b[0m\n",
            "\u001b[?25hInstalling collected packages: biopython\n",
            "Successfully installed biopython-1.85\n"
          ]
        }
      ]
    },
    {
      "cell_type": "code",
      "metadata": {
        "colab": {
          "base_uri": "https://localhost:8080/"
        },
        "id": "5ccd6f0b",
        "outputId": "2ab2da65-a79a-4e72-b8b3-cf5a96ee08a8"
      },
      "source": [
        "try:\n",
        "  from Bio.Seq import Seq\n",
        "  print(\"Biopython is installed correctly.\")\n",
        "except ImportError:\n",
        "  print(\"Biopython is not installed or there was an import error.\")"
      ],
      "execution_count": 58,
      "outputs": [
        {
          "output_type": "stream",
          "name": "stdout",
          "text": [
            "Biopython is installed correctly.\n"
          ]
        }
      ]
    },
    {
      "cell_type": "markdown",
      "source": [
        "#<font color=blue>**P21.**</font> Seq( ) – a function to define sequence objects"
      ],
      "metadata": {
        "id": "IGX-ThdQ3RuA"
      }
    },
    {
      "cell_type": "code",
      "source": [
        "from Bio.Seq import Seq\n",
        "\n",
        "my_sequence = Seq(\"GATGGAACTTGACTACGTAAATT\")"
      ],
      "metadata": {
        "id": "ltZBr8mE4OhM"
      },
      "execution_count": 59,
      "outputs": []
    },
    {
      "cell_type": "markdown",
      "source": [
        "####**TASK BP21.2** <font color=orange> **Complete Rosalind #7 Transcribing DNA into RNA**</font>"
      ],
      "metadata": {
        "id": "UXCuEFxg6Jxx"
      }
    },
    {
      "cell_type": "code",
      "source": [
        "t = \"\"\"TACCACATTTCCTGCCTCACTTGACTCTTATTCAGTTCTAACTGCGAAATACTTCCCTAAATATGAAACACGACAGAACCCCAACTCTCAGTCAACGATGGCAGATAAGTTTTTTTAATTCGTCCTCTTGTTTAAATAATAACTTGTTGAGGCATTTAATTGGAAAGGGCCCCCATACAGTATTTTAACACACCTCATTGTAGACACCCGAGGGATAGGGCGATCATTTCCCCGCGCTTTCTGTAGGATGGAACATATGGTGCGTTAGCGTACTCTTGCGTTAGTTCAAGCAGTAGCTCATGGTGCCCTCTTCTAACGATAGACAACGTTTCGCCCCAGCCAGGAGGCGTGGCCAGGCACAGTGTCGTGCAAACAATATCGGTACCAGTTATGGGGGGGGCGGCTATGTTGACTGTATGAACACGACTGAGCTTGAGCAAGGTCCACTCCCGTGGCTCCGGACTCGTTGGGGCAAGGTTCTGGCATGACGTGCCTCGTGTTTAGGACCGCCTCATACAAGCGATGACAACCTGGTCCCTACTGATGAGTTCTACAGAGTACGCCATGCTCCGCGCAACTTTCGTCGGACGCTTCACGCTGCTTCAAAAAACATTGAGAAGCCTTCGGGAAACGGTGCGATGCTTTGCCCGAGCCTGAAGATACTACCCGTCCTGCCTGAGACACATTCCTTTAGAGTAGTTATTCCCTCCCAATCACGCGATCCAGCGGGAGAAATTGTTGCAAAAAGCAGGCCGTTCAGGCGTCGATCTCGTAAAAATCACTCGAGGTAGCATGGAGTGCTCGGAGTCATCAGCGATCAAAGAACATGAGGGACTCCTTCCGCAGAGACTAAGGCACAGGAGACATTTGGTCGGAGCGCGACATGGACCGCTAGTATGACCTAATGAGGTGCTCTCC\n",
        "\"\"\"\n",
        "# Transcribe DNA to RNA by replacing T with U\n",
        "u = t.replace('T', 'U')\n",
        "print(u)"
      ],
      "metadata": {
        "id": "UXt6gWLM6qde",
        "colab": {
          "base_uri": "https://localhost:8080/"
        },
        "outputId": "1acb6a86-9b8a-4169-b4b9-0f779246a1ff"
      },
      "execution_count": 60,
      "outputs": [
        {
          "output_type": "stream",
          "name": "stdout",
          "text": [
            "UACCACAUUUCCUGCCUCACUUGACUCUUAUUCAGUUCUAACUGCGAAAUACUUCCCUAAAUAUGAAACACGACAGAACCCCAACUCUCAGUCAACGAUGGCAGAUAAGUUUUUUUAAUUCGUCCUCUUGUUUAAAUAAUAACUUGUUGAGGCAUUUAAUUGGAAAGGGCCCCCAUACAGUAUUUUAACACACCUCAUUGUAGACACCCGAGGGAUAGGGCGAUCAUUUCCCCGCGCUUUCUGUAGGAUGGAACAUAUGGUGCGUUAGCGUACUCUUGCGUUAGUUCAAGCAGUAGCUCAUGGUGCCCUCUUCUAACGAUAGACAACGUUUCGCCCCAGCCAGGAGGCGUGGCCAGGCACAGUGUCGUGCAAACAAUAUCGGUACCAGUUAUGGGGGGGGCGGCUAUGUUGACUGUAUGAACACGACUGAGCUUGAGCAAGGUCCACUCCCGUGGCUCCGGACUCGUUGGGGCAAGGUUCUGGCAUGACGUGCCUCGUGUUUAGGACCGCCUCAUACAAGCGAUGACAACCUGGUCCCUACUGAUGAGUUCUACAGAGUACGCCAUGCUCCGCGCAACUUUCGUCGGACGCUUCACGCUGCUUCAAAAAACAUUGAGAAGCCUUCGGGAAACGGUGCGAUGCUUUGCCCGAGCCUGAAGAUACUACCCGUCCUGCCUGAGACACAUUCCUUUAGAGUAGUUAUUCCCUCCCAAUCACGCGAUCCAGCGGGAGAAAUUGUUGCAAAAAGCAGGCCGUUCAGGCGUCGAUCUCGUAAAAAUCACUCGAGGUAGCAUGGAGUGCUCGGAGUCAUCAGCGAUCAAAGAACAUGAGGGACUCCUUCCGCAGAGACUAAGGCACAGGAGACAUUUGGUCGGAGCGCGACAUGGACCGCUAGUAUGACCUAAUGAGGUGCUCUCC\n",
            "\n"
          ]
        }
      ]
    },
    {
      "cell_type": "markdown",
      "source": [
        "####**TASK BP21.2** <font color=orange> **Complete Rosalind #8  Translating RNA into Protein**</font>"
      ],
      "metadata": {
        "id": "9P4_MaXp6O3n"
      }
    },
    {
      "cell_type": "code",
      "source": [
        "# RNA codon table dictionary\n",
        "codon_table = {\n",
        "    'UUU':'F', 'UUC':'F', 'UUA':'L', 'UUG':'L',\n",
        "    'UCU':'S', 'UCC':'S', 'UCA':'S', 'UCG':'S',\n",
        "    'UAU':'Y', 'UAC':'Y', 'UAA':'Stop', 'UAG':'Stop',\n",
        "    'UGU':'C', 'UGC':'C', 'UGA':'Stop', 'UGG':'W',\n",
        "    'CUU':'L', 'CUC':'L', 'CUA':'L', 'CUG':'L',\n",
        "    'CCU':'P', 'CCC':'P', 'CCA':'P', 'CCG':'P',\n",
        "    'CAU':'H', 'CAC':'H', 'CAA':'Q', 'CAG':'Q',\n",
        "    'CGU':'R', 'CGC':'R', 'CGA':'R', 'CGG':'R',\n",
        "    'AUU':'I', 'AUC':'I', 'AUA':'I', 'AUG':'M',\n",
        "    'ACU':'T', 'ACC':'T', 'ACA':'T', 'ACG':'T',\n",
        "    'AAU':'N', 'AAC':'N', 'AAA':'K', 'AAG':'K',\n",
        "    'AGU':'S', 'AGC':'S', 'AGA':'R', 'AGG':'R',\n",
        "    'GUU':'V', 'GUC':'V', 'GUA':'V', 'GUG':'V',\n",
        "    'GCU':'A', 'GCC':'A', 'GCA':'A', 'GCG':'A',\n",
        "    'GAU':'D', 'GAC':'D', 'GAA':'E', 'GAG':'E',\n",
        "    'GGU':'G', 'GGC':'G', 'GGA':'G', 'GGG':'G'\n",
        "}\n",
        "\n",
        "\n",
        "rna = '''AUGCAUUUCACGCCCAUAGCAAGUGCUAAUCGUGUUUGUAUAAACUCCGGGGGUAUGCGCAACCUGAGGUUAAACUCGGGGCAGUCCCUAAUUAGGCGGCCAAAGCGACAGUACAACCACAGAGCUUUUGCGGGGGUUACUGUAGUGUACGUGGAGCAGACGCCCAAGAAGGUGCUACUAUGGGGCGUUAAUAACCCGGGGGGUAGGCCUCCGCCGGCAAUAAGUUUCAUCAAAAGUAAGACAAGCGGGCAGGGUAACCCUUUAAAGUUGUGCGGACGUUGGUCGCCAUUAUUCACUCACAUGUGGAUACGGAAAUCGGCCCUGAUGCCUUUAACUGAAAGCUUUAGCUUACCUCGUGCUUUGUGUAUUGUAGCGCGGGUCACCGCGCACAGGGUGUUCAAUGCAGGGGUAUCCGUCUUGCAUAUAGGGUGCGAAAACUCCUACCAAUAUGGAACGCUCCGUAAAUUAAUACUGUCGCUUCUUCAGAGGACAGAUGUAUGCAAAUCCCAGAUUCGAAGUUAUCAUUCUGUGAAAGGCGCAGAUGCGGAUCUAUCCUACGACAUUUCAAUGCUGACCUACAUUGCCACGCACGAGUAUAAUGCUAUCCGAGUUCAUAAAAUGACAAUAUGGCUGUGGAAUGGGUGCGUCCACCCGAUGACGAACCCGGUGAGGGAAGUAGCCACAGAGUGGCGACAAAGUUUAAACGCGCAUAGCAUUGUAAUGGUGUCACGGAACAUGUUUCUUGCUCCUGUCCCCCGUUCUCGGGGUUCACACACAGUUUCUCGCCUGGAAUGCACUCGAAACAUGGGCAGUUCACCCACAAGACGUCUCGGUUUCCACGUACAUACGAUGCGUGCAAUACGUAUGCUUUUUGGUGAAGGAUUAGCGCAUUGUAAACAGAGAAACACGACCUACGUCGAUUCUUGUGGAACAGCUAGCUUUAGUGUACUGUGGAUCAGUCGUCACUUUGCGCUUCGCUUUUUCAGCAACCGGGUCUGUCGAACCCCUUCGUUCCAUCAGUUCAUGGACUCCUCCAUACACCGCCGUAGCUUGCCAGUAGCUCUUCGCGUAUAUGAAAUCGUAAGUACCCACACAAGAACUUUAUUAACACCGCAUCUGCGAGCUUCCAGCCGUAGCGCGAAAACUGAAUUGGAAUCACCUCAACCACACCAUGAGUUCCUAAUGUGCCUAGGUGUCCGGGCGGGAGUCGAACCGAUCUCGAUCGUUAGUAAUACAAAGAGUCUUAGAGGGUCCAACGGCCUACGGUGGUUGCUUCGGACACAGGGGUGCGCGUUUCGGAUAGACCUGAAGGAUAAGCUCUCGAGAGGACGCCGGAAGUGCGCCGCUUCAAAUUUGAUACUCUCCAAAUGGGUAUCGGGUCUACAGAACAUAUGCUCCUAUUCAUCCAAGCCAGUCAACCAGCGUGAUCGUAAUGGUUCCCCUAUGCUAAAUAGGACUCGCGAGGUUCUACUUAUACCUACAUAUAGCCGUUCGUUGACAGGAGAGACAGAAGUUUGUUGCGUUAGGUUCAAUUGGCCAUACAUAGCCCGCCGUCAGGUGCAUGGUGGACCUCCCUUAGCCCCUCAAGGCGCUCAGGCUAGGAAGAGGCUAAAUUUUCUUGCAAACAGACUGUCGGUUCCCAUGGUAUCCACCAAAGGCGUGGCAUGCGGCACUGUCUGGACUCGCACUCGCGCCAAACAAGAGAAAAUCGGCGCGCUGCGGAUAGUACUCCCGAUCGAAGGCCCAGUGGAUCUAGAGCCAUUCAAAGCUGAGUGUAGUUUGUAUGAAGAGAGGGGGUGGUGGCCCCUCAUUAGACGGGGAAUUUUGAAUUCGGCCUUGAGUUGUAUUUGCGCCCACGCUAGACGCUUAUGCGUGUGGUACUACUUGGCGCCAGAUAUAUUCCGCCCACCGUCGCCGCCCUGGACGACAGUUGGUCAUCAGGCCGCAGGCCAACUUGCUUGCCGUAAAAGCCACUACAGAUGUAUAGGUACUUACGAGCGAGGAUACAAUGCCCAGAUCGCCUUGAAGGAAGCCCUUUACAGUGAUCCAGGUGGCGGACCUAUAGAGGGCCGGCACAGCCUACUACAGGCCCGCGCUUGGUCCGAUCGUGCGAGGCCUGGAUCGUUGGGACAGGGCAAAUGUAAUUUUUUGAAAAGCUUGGACAUUUCUGUUAUGGUACAUAAAUGCGACUUCGCCCGGCAUACAUUUGACCAUGCGGUUGAGGGCGAGGAGUGGAUGGGUACUGGCCAUCAGAUAGAGACUAACCUCAUGCCUUUAAGAGGCUUUGGUUACAGCUUCCACGAACACGAUCACCAAGUUCGUGGCCUAGCUAACUUCGCAAUGAUUCUUCAUUUUGGAUUGGCACUUCUUCAGUAUGAGUGCGAUACUAUCAUAUCAACGCAAUGUAAAGUUGUUACGCUACAUUCAAUCCGUAUGGGCAUCCACAACUAUAAGGCAAAUGAAAGCCCAAAAGGGUCAGAUACUAUGCAUCAUGGACCGCAAUUAAUGGUCAGGGCUCAUCAUGUAAAAUCCUGGUGCCAGCGGCGGAGACUUGCAGAUUUCGUCGGAAAGCUAACGAAAAUCAGACAAACACACUCGUCACAAAACUAUACCCCACAGUCCAUCCGACUACCCAGUGCACAGUGCGAACGUAGUCGUUUUGGUUUAUGCCGUCAAAUGAGAAGAUACCUAGACAAGGAAACAUCCGGGGAGUCGUGGACAAUGGCGCGCAGUCCGGUGACGUGGUUACGACGACUUAGCGUGCUCCUAGAAGUGACAGUAGGUUCACGGCGAUCUUGUGCAAUUAAGUAUCGACCGCCCGAGAAAGUGUCUUCCUCACAGUCAUAUAAAGGGUAUGCCAGGCUUAGCUGCCAACAUCCCCGGCUGAGAGGUCGGAUCGAUUCUCGGCAUGUGCGCCGGGACGUUCAAUCCCAGAACGGUUUAAUUCUCAGAUCUACAGCGAAUGGCGUAGCCUGCCUGACUGCUGCCAUAUUCUCAGAGAGAAGAACGUGCCGGUGCGACGCCUGGUGGUCGGACUCGUCCGAGCAGCAUAUAGGCCAUAGAAAUAAGAAGCAUAGUACAAAUCGCAGUAGCCCUAUCUUAUCCCGGCCCUCAUGUCUCCCGACACUCUUAGAUGCGAUAACAGACCGCACUGAUAAAGCCCAAAGAUCCCCAUGCCGAGCAAACGUCUCAGGACCUGUUUCCUACUCAAUCAGGUCUACCAUCCCAGUAGGCUCACACAACAGUGUUCGUCAUGGGCAAUGCGCGGUCGGAAAUGCGUUUAUACCGUUCUGGGAUAUGUGGAAGUCACUCCUUCCAACUCAAAUGUUGGCUGGGGUGCCUACACGAUGGGUGUACAUAACCUAUUUGGGGUCAGAUCGGCUGUCUUGCAGGGAAAACUUUAGCACUAUAUACGUAGAGUGGCAGACUCGAGCAAUAGCAUGGUUACUUCAGAUAACGUAUCGGUUUCAUCCGCAGACCAGCAAUUCUUGUCUGGUUGAAGAUUCGACACUUGCGAUCCAUAGCAAUAUUAGCCAGGGAAUUCACGGUGUCUACUCGCUUGUGGCUUUGGGUGCUCGUUACUUCCAGAAUCAAAUACGACAAUACGUGAUGCUAGGACGAUUCAGCACCACGGUACCUGCGGAGGGAGUGUUACCUACCCGUCUUCCCGUACUGCGAUAUACAAGUUCUGACGUGGUGGUAGUGGAUACCGGUAACCGGUCUGUGAAAGCCACGGUUCGGAAGAUAACUGGGCAAGUAACCUGCGUAAGCACGUCUAACCGGAAUACGACUCAGUACUUGGUGGUGCCAUUGGGCAUGAAGGUUUCGGAAUUCGCCUCCUCUGGUACUAUGGCCAGGUUAGCACGCUCGAGAAGCGAUAUGCUCCGCGAGCUGCGUUUGGAGAAUUGCGAUCCGAUACGCAGGUUUAUGUUAACGGGAAGGAGAGUGCAUCGUCUAUUUUAUCCGAGAGCGCUAGAAGUAAUACGGCCAUCCUCUAUAACUCCGAGGACUUCCACCGGCUUGGCUCUAUUGCAGCCAAUUAACGCCUCUAAUGCAUGGCAGGACAACAGCAAUUCUGCCAUGAGGGGUAGCCUGGCCCUACAAAACGGAGCAGUAAGUCGCCUGAGUGUCCUCGCUCGUCAACAAUGUUACCACUUCAACAUUUCCAAAGGCUUCAUAUUAGCCUCUCUACUCUUACUCCUAUCUCGUCUAGACCAGGACCGGUCCGGCUUCUGGUUCAGGCCCCCGAUGAGAUUCUGCCAAGAGCAGCCGUUGUCCCCACCCGUCGCCACCGGCGAACAAAGGGAAACUUCCUCGCCAACGAAUUAUGCUGUCAAACAAUUUGCUAAUAAAUCAUGCAUGCAACGUAAGGGGGGUCGUGGUCAUGUUCCCGCGUUAUAUGGAGGCGCUUCAGAACUCGCCGACCUCCCUCGCUGGGCCGGGUCGUGUCAGAACCUUUCUCGACACAAGCAUUUGUUCUUUGGGCACGGGCUCCUCGGUCCUCGUGUCUCUGGGUUAGGCCUUGCUUUAUCACCGCUCUUGCUCAUGGGGCACUACGAAUCCAAUUUUACCUGGACAAUCAGCCGGUUCUGUUACGUAUUGCAUUCGAUCGAAAAGGGACACUCAGUGCAGAGGUGCGCCAACCACCGCGCUCAUUUACGAUUACUUCGGAUUUAUAUUAAAUAUGACGUUUGUAAGCUGCAAGACAGCCUAUGCGGUUGUCCCACUCCCGGAGAAACUUCCUCCUCGCCAUACGGAAGGACCGCAUGCGGCAGCAUGAGUUACUCUUUAUUAAGUUUUCGGCGCAAGAUUGCUCUCAUCUACUCGGAGUCUAAAUAUAACCGGAUCGAAUGCGAUGGCUCCUCAGUCGGUCAAAGAUUCUUACAGUGGUGUGCGAGGGGUUUGCGUCAAAGGCCGACGUACGUAGAACCUUUCGGCACCUUUAUUCAGAAUUGUUUACGUCAGCGCGUGUCCGCUACAGCGAUGCAUGAAAGGGUCAGUACACGUGCUAUCCGCUUCAGGCGCGCGUGGUUUCUAUCGUGCCGUGAUAACCGUGCACACACGCGCAUCCCUCCGUGUUGGGCAGAUGUGUUGACAAACUCGGAGCGUGCCUGCACUCGGGGGAUGAUCGUUCUAAAAGGAGGACGAAUUUCACGAGGAGUUCCCCCAGGCGUCACGGGGUCUUUUCAGCUACUGGCCACUCCCACGGAUCUGAAACGGGAUGCACGCUCGCACAUCUUCCUUUUUUUCUGGGGUGCUAUGAUCAUCGUGUGGGCAAGCAUGAAUGCCUGCGUCCGCGGGGUUCAGAAUUCGGUACGCUCUGGCCAAUUGCGCUUAAAGACCAACAGAACCCUUCAACAUAUUCCUCUAUUGUUUUGUCGAACCCCGAGCUACUUGGAUUGGUGUAUUUACCCGACUAUUGAAGUACGGACUCCCCAAUUGUACUACACUACCCGUACGAACACCUCCAGGGUGCGUGUUACGAAGGUAAUUGUACUUGUCUCACUGUUGCAGUCUCGCGGAGGGAGACUCACUAACUCAUGCUUCCACCGUACGCCUCUUUUAUGUGGUAAAGCCGGCAAAGCUGGCUGGACAGUUCGGCGAUGUACGUUGAAAUUGAUUGAGUAUGAUCCCAGUUUCUGUCAGGUUUGGCGCAGCCGGACUAAUAAGCCUCACCCAAUGGAAGACACAUUAAGUCUCGUUGUCUGCUUCCAAUCUCUUAACCUCAUGCCAGAUCGUCCUAUGACACUUCUCUGCCAGUCCGGGUCUAGGGCUAGUCAUCGGCAAGCGGGGGUAGGACUGCCAACUUCGGAGUUAGUUACUGCCGAAGAAUACGCGUUUACGGCCUGCGGCUGCCUGGACAGACAUUACCCGAGCAACGAGGCCUUGCGGCGGCCUGGGAUCCAUGCUGUUGAAUUGGUUGUCGACGCCGUUCUCCAGGUAACGCUUAUAACGCUAACAGCUGCAGGUCAACAAAACCCCCUGCGGUGGCUGCAUUGUCAAUCGAUCAAUCCGCAUUUUGACCGUUCGCCAAAGCGUCGGUCCUUCCCUGAAUUGAUCACUUAUUUUGGUCUAAUACCUGAGAGGCUGCGAAGUCUUUGGCAAGUGGCCGUAUCGGAGAAAACACGGCAUAACGGUCAAGUGCACGAAGGUUUGUACACAGAAAUAUUUGCCUGCUGUCCCGAUCAACCACGUAUGUUUCACGUAGGGGACACGGAAGGAGGCCAACGGGUCUGCAUCCCUACCCUAUGGGCCUGUACUGACUCUCUUGAGGAGCGAAAUUGUCACCUUCGCGCCGUGCACAAUUGGGUGAAGACCAUCGUUUCGCAUUCUCCUCUACAAGGGGGUGCUGCAAACCACCAAGUUCGUCGAAAGAAAGGACGUCCGGCUUAUUCCGUGUAUGUUGUUCCUCACCAUGCACGUCAGUUUGCCAUUCCACAAGAACGGAGAGUUUAUGAUUUCUUCAGCGAACUCAGCCCCAGUAGUAAAUACCUCCUGAUACGUGUGAGCGGGACCUCCCAUAGAGUGCCCCCCGUUGUGGCUUGCAUUGGGAAUUUUAGUCCAACGGGAUGUGCUGUUGGUAUGAUGAACAAGUGUUCGAAAGAAAACACGUCCUGCGGCAGACUUGGCCCGAGGCACUGGCCCUUUUCAGCGUACAAUUUCAACGAGGGGUUGACACAUAAUUUACCAGUUAUACACUUUGCCUUGGUGUCAGUGUCAGCGUCUUGGGGUGCCCGUCACUUCCGAUGUGGGGCCCAAACCGUCAAGGUCAACGCGUUCUUCUGCGUUCACUACUUACCUAAGACUGAUGUCACUCAUCAUCGCAAUAAGUCACCAACGACCAAACCAAACCUUAGGCUAACACACCAUAGAAGCUCCGAUGUUGGCCACGCAACUUGCGCUAGAUUUGAAGCCGGGCGAUGUUUAAAGGGCCCUGUCGCGGAAAAGGUCAUUAUACAACAGACUCAGCGUAUAGUAGUGCUGGGCGUUUGUAGCUACCGUAGCCAAUAUAAUAGCUGUCCGCAUGGAGUGCACAGUCGAUUGGGUCUCUACCUAUGGCCUCUCCCCCUGGACGUAAUUCCGACGUAUCGCCCUCGUCUUAAAAAGCAUCGGUCUGGUAAGAACGUCACUGAUAAGUUAAGAAGGCAUAUGCUCCAGACGUGGUAUCUAAACAUACCGACCCAAGUUUUGUCCGGAGUAGAGUCACUUCGGAAAGCGCAUGAUUGUCUCAGCGAUGCCUUCGCUUGCGGUAACCUCAUAGGCAGACGGCACAGUGCACAGAUUACUCGAGCGAUAAUUACUUAUAGUCACUUAUUAGACCGGCCUACUCAGUGCUGCUGUGAGGCUGGACCCUGCACUUUAUACCGCUUGUAUCGACUUAUCGUAGAUUUCAUCGUUCAGCACCGUUUACCUCGAUCCUGUUUUAUCUCCUGCUCAAUCCGCGUAUCCUGUAGCCCACCGAAUCAACGCGGGAAUAUAAAGAGUCUUAAGUAUGUUGAGCAGCGUACUACCUUUGGGCCCGCGAUGACGAAGAUGAGCCGACUCGCUGAAUAUACGCGCUGCAAAACAGAAAAAUUGCCCAAUUAUCUCACAUUUAUUCUGCAUGGGGCUACUUCUUUACAUUAUCGGCCACCACGGGCUGAGAGAUUAUAUAGCGCGGCCCUGACUACUGCCAGGAAGUCACGAUUACUAAUGCAUGAGCCCUGGUUCCGCUUCACCGCUCCACCAUGCACACAACACAGAGUGUUAGAUGUCCCUCAUGAUUACAUCCCAAACAGCUUUCUGCUAACGAUAUAUUAUUCUCCUCAAUGCCAACGAAUCAAUGGCGGCCGAAUGAGCAGGACUCUCGACACCACUCCAGUGAGGCGGGAGAUCGUACGCUCUGAACUCCUUGGUCAUCACGCAUCCAAGGGUAAACCCUGCGCAAGAAGUGUAGAUUUCCUACACAACACCUACUGGUCUCCAAUGCGCCAACGCCUUCGGGUAACCUUUCAACAUACGGUGCAGUGGUUAGGUCGCGGUCCCCAAUGCAUCUAUAAUUUAGUAGGUGUCAUGGUCGACUUACACUCCCACGCUGAAAUCGGGCUAGUCGAGAUGCGGCGCCGGACCCACAGCUUGCGAGAUUUAUUAUUCCAGAAAACGUGGCCGGUCCCAUUUAGAUUAAUUUUUAACACCCCACAUCUGCCACUUCUCAGGGAAGCUCCGGAAAGCUUGAUGCGAACAUUUGACCUCCGGGGGGGCCCCCAGUGUAGGUCUCGUGUUCGUGUGUAUCCCCAGUUGUGUCAGUGGUAUAGUACACCGUUGGCUAAGAGUUUUCCGGGCCGAGAUUUCUCAUGGGCCAUGAUUUCGUGGAUAGAGCCCCGUGCGAUCUGA\n",
        "'''\n",
        "\n",
        "protein = \"\"\n",
        "\n",
        "# Iterate over the RNA string in steps of 3 (codons)\n",
        "for i in range(0, len(rna), 3):\n",
        "    codon = rna[i:i+3]\n",
        "    amino_acid = codon_table.get(codon, \"\")\n",
        "    if amino_acid == \"Stop\":\n",
        "        break\n",
        "    protein += amino_acid\n",
        "\n",
        "print(protein)"
      ],
      "metadata": {
        "id": "5Rzzfzij6q2P",
        "colab": {
          "base_uri": "https://localhost:8080/"
        },
        "outputId": "34acb2a9-ac1b-4504-8312-d24b304a1179"
      },
      "execution_count": 61,
      "outputs": [
        {
          "output_type": "stream",
          "name": "stdout",
          "text": [
            "MHFTPIASANRVCINSGGMRNLRLNSGQSLIRRPKRQYNHRAFAGVTVVYVEQTPKKVLLWGVNNPGGRPPPAISFIKSKTSGQGNPLKLCGRWSPLFTHMWIRKSALMPLTESFSLPRALCIVARVTAHRVFNAGVSVLHIGCENSYQYGTLRKLILSLLQRTDVCKSQIRSYHSVKGADADLSYDISMLTYIATHEYNAIRVHKMTIWLWNGCVHPMTNPVREVATEWRQSLNAHSIVMVSRNMFLAPVPRSRGSHTVSRLECTRNMGSSPTRRLGFHVHTMRAIRMLFGEGLAHCKQRNTTYVDSCGTASFSVLWISRHFALRFFSNRVCRTPSFHQFMDSSIHRRSLPVALRVYEIVSTHTRTLLTPHLRASSRSAKTELESPQPHHEFLMCLGVRAGVEPISIVSNTKSLRGSNGLRWLLRTQGCAFRIDLKDKLSRGRRKCAASNLILSKWVSGLQNICSYSSKPVNQRDRNGSPMLNRTREVLLIPTYSRSLTGETEVCCVRFNWPYIARRQVHGGPPLAPQGAQARKRLNFLANRLSVPMVSTKGVACGTVWTRTRAKQEKIGALRIVLPIEGPVDLEPFKAECSLYEERGWWPLIRRGILNSALSCICAHARRLCVWYYLAPDIFRPPSPPWTTVGHQAAGQLACRKSHYRCIGTYERGYNAQIALKEALYSDPGGGPIEGRHSLLQARAWSDRARPGSLGQGKCNFLKSLDISVMVHKCDFARHTFDHAVEGEEWMGTGHQIETNLMPLRGFGYSFHEHDHQVRGLANFAMILHFGLALLQYECDTIISTQCKVVTLHSIRMGIHNYKANESPKGSDTMHHGPQLMVRAHHVKSWCQRRRLADFVGKLTKIRQTHSSQNYTPQSIRLPSAQCERSRFGLCRQMRRYLDKETSGESWTMARSPVTWLRRLSVLLEVTVGSRRSCAIKYRPPEKVSSSQSYKGYARLSCQHPRLRGRIDSRHVRRDVQSQNGLILRSTANGVACLTAAIFSERRTCRCDAWWSDSSEQHIGHRNKKHSTNRSSPILSRPSCLPTLLDAITDRTDKAQRSPCRANVSGPVSYSIRSTIPVGSHNSVRHGQCAVGNAFIPFWDMWKSLLPTQMLAGVPTRWVYITYLGSDRLSCRENFSTIYVEWQTRAIAWLLQITYRFHPQTSNSCLVEDSTLAIHSNISQGIHGVYSLVALGARYFQNQIRQYVMLGRFSTTVPAEGVLPTRLPVLRYTSSDVVVVDTGNRSVKATVRKITGQVTCVSTSNRNTTQYLVVPLGMKVSEFASSGTMARLARSRSDMLRELRLENCDPIRRFMLTGRRVHRLFYPRALEVIRPSSITPRTSTGLALLQPINASNAWQDNSNSAMRGSLALQNGAVSRLSVLARQQCYHFNISKGFILASLLLLLSRLDQDRSGFWFRPPMRFCQEQPLSPPVATGEQRETSSPTNYAVKQFANKSCMQRKGGRGHVPALYGGASELADLPRWAGSCQNLSRHKHLFFGHGLLGPRVSGLGLALSPLLLMGHYESNFTWTISRFCYVLHSIEKGHSVQRCANHRAHLRLLRIYIKYDVCKLQDSLCGCPTPGETSSSPYGRTACGSMSYSLLSFRRKIALIYSESKYNRIECDGSSVGQRFLQWCARGLRQRPTYVEPFGTFIQNCLRQRVSATAMHERVSTRAIRFRRAWFLSCRDNRAHTRIPPCWADVLTNSERACTRGMIVLKGGRISRGVPPGVTGSFQLLATPTDLKRDARSHIFLFFWGAMIIVWASMNACVRGVQNSVRSGQLRLKTNRTLQHIPLLFCRTPSYLDWCIYPTIEVRTPQLYYTTRTNTSRVRVTKVIVLVSLLQSRGGRLTNSCFHRTPLLCGKAGKAGWTVRRCTLKLIEYDPSFCQVWRSRTNKPHPMEDTLSLVVCFQSLNLMPDRPMTLLCQSGSRASHRQAGVGLPTSELVTAEEYAFTACGCLDRHYPSNEALRRPGIHAVELVVDAVLQVTLITLTAAGQQNPLRWLHCQSINPHFDRSPKRRSFPELITYFGLIPERLRSLWQVAVSEKTRHNGQVHEGLYTEIFACCPDQPRMFHVGDTEGGQRVCIPTLWACTDSLEERNCHLRAVHNWVKTIVSHSPLQGGAANHQVRRKKGRPAYSVYVVPHHARQFAIPQERRVYDFFSELSPSSKYLLIRVSGTSHRVPPVVACIGNFSPTGCAVGMMNKCSKENTSCGRLGPRHWPFSAYNFNEGLTHNLPVIHFALVSVSASWGARHFRCGAQTVKVNAFFCVHYLPKTDVTHHRNKSPTTKPNLRLTHHRSSDVGHATCARFEAGRCLKGPVAEKVIIQQTQRIVVLGVCSYRSQYNSCPHGVHSRLGLYLWPLPLDVIPTYRPRLKKHRSGKNVTDKLRRHMLQTWYLNIPTQVLSGVESLRKAHDCLSDAFACGNLIGRRHSAQITRAIITYSHLLDRPTQCCCEAGPCTLYRLYRLIVDFIVQHRLPRSCFISCSIRVSCSPPNQRGNIKSLKYVEQRTTFGPAMTKMSRLAEYTRCKTEKLPNYLTFILHGATSLHYRPPRAERLYSAALTTARKSRLLMHEPWFRFTAPPCTQHRVLDVPHDYIPNSFLLTIYYSPQCQRINGGRMSRTLDTTPVRREIVRSELLGHHASKGKPCARSVDFLHNTYWSPMRQRLRVTFQHTVQWLGRGPQCIYNLVGVMVDLHSHAEIGLVEMRRRTHSLRDLLFQKTWPVPFRLIFNTPHLPLLREAPESLMRTFDLRGGPQCRSRVRVYPQLCQWYSTPLAKSFPGRDFSWAMISWIEPRAI\n"
          ]
        }
      ]
    },
    {
      "cell_type": "markdown",
      "source": [
        "####**<font color=crimson>TASK 21.3 Commit to GitHub**</font>"
      ],
      "metadata": {
        "id": "dvtR4N7L6sZ_"
      }
    },
    {
      "cell_type": "markdown",
      "source": [
        "#<font color=blue>**P22.**</font> SeqIO – a function to parse( ) sequence files"
      ],
      "metadata": {
        "id": "bDJqtRiX3fEG"
      }
    },
    {
      "cell_type": "markdown",
      "source": [
        "####**TASK BP 22.1** Read in the practice dataset from Rosalind #9 and print the id of each sequence in the file."
      ],
      "metadata": {
        "id": "VKyMhLjx7nIo"
      }
    },
    {
      "cell_type": "code",
      "source": [
        "from Bio.SeqIO import parse\n",
        "\n",
        "for seq_record in parse(\"practice_9.txt\", \"fasta\"):\n",
        "    print (seq_record.id)\n",
        "    print (seq_record.seq)\n",
        "    print (len(seq_record.seq))\n",
        "    print (seq_record)"
      ],
      "metadata": {
        "colab": {
          "base_uri": "https://localhost:8080/"
        },
        "id": "xUi3JEoh7yJ6",
        "outputId": "e2217f91-b864-4f8b-f306-292410723066"
      },
      "execution_count": 62,
      "outputs": [
        {
          "output_type": "stream",
          "name": "stdout",
          "text": [
            "Rosalind_6404\n",
            "CCTGCGGAAGATCGGCACTAGAATAGCCAGAACCGTTTCTCTGAGGCTTCCGGCCTTCCCTCCCACTAATAATTCTGAGG\n",
            "80\n",
            "ID: Rosalind_6404\n",
            "Name: Rosalind_6404\n",
            "Description: Rosalind_6404\n",
            "Number of features: 0\n",
            "Seq('CCTGCGGAAGATCGGCACTAGAATAGCCAGAACCGTTTCTCTGAGGCTTCCGGC...AGG')\n",
            "Rosalind_5959\n",
            "CCATCGGTAGCGCATCCTTAGTCCAATTAAGTCCCTATCCAGGCGCTCCGCCGAAGGTCTATATCCATTTGTCAGCAGACACGC\n",
            "84\n",
            "ID: Rosalind_5959\n",
            "Name: Rosalind_5959\n",
            "Description: Rosalind_5959\n",
            "Number of features: 0\n",
            "Seq('CCATCGGTAGCGCATCCTTAGTCCAATTAAGTCCCTATCCAGGCGCTCCGCCGA...CGC')\n",
            "Rosalind_0808\n",
            "CCACCCTCGTGGTATGGCTAGGCATTCAGGAACCGGAGAACGCTTCAGACCAGCCCGGACTGGGAACCTGCGGGCAGTAGGTGGAAT\n",
            "87\n",
            "ID: Rosalind_0808\n",
            "Name: Rosalind_0808\n",
            "Description: Rosalind_0808\n",
            "Number of features: 0\n",
            "Seq('CCACCCTCGTGGTATGGCTAGGCATTCAGGAACCGGAGAACGCTTCAGACCAGC...AAT')\n"
          ]
        }
      ]
    },
    {
      "cell_type": "markdown",
      "source": [
        "#<font color=blue>**P23.**</font> SeqUtils.gc_fraction( ) – a function to compute GC content"
      ],
      "metadata": {
        "id": "SAjUYBpe3pwi"
      }
    },
    {
      "cell_type": "markdown",
      "source": [
        "####**TASK P23.1** Modify the script from TASK P22.1 so that it prints the GC content for each sequence in the file"
      ],
      "metadata": {
        "id": "kEjUu8HfHniC"
      }
    },
    {
      "cell_type": "code",
      "source": [
        "from Bio.SeqIO import parse\n",
        "\n",
        "def gc_content(seq):\n",
        "    seq = str(seq).upper()\n",
        "    gc_count = seq.count('G') + seq.count('C')\n",
        "    return (gc_count / len(seq)) * 100 if len(seq) > 0 else 0\n",
        "\n",
        "for seq_record in parse(\"practice_9.txt\", \"fasta\"):\n",
        "    print(seq_record.id)\n",
        "    print(seq_record.seq)\n",
        "    print(len(seq_record.seq))\n",
        "    gc = gc_content(seq_record.seq)\n",
        "    print(f\"GC content: {gc:.2f}%\")\n",
        "    print(seq_record)\n"
      ],
      "metadata": {
        "colab": {
          "base_uri": "https://localhost:8080/"
        },
        "id": "xCX4_kvWK36z",
        "outputId": "b88253a0-71cc-4543-9894-aa03bd6f7b3d"
      },
      "execution_count": 63,
      "outputs": [
        {
          "output_type": "stream",
          "name": "stdout",
          "text": [
            "Rosalind_6404\n",
            "CCTGCGGAAGATCGGCACTAGAATAGCCAGAACCGTTTCTCTGAGGCTTCCGGCCTTCCCTCCCACTAATAATTCTGAGG\n",
            "80\n",
            "GC content: 53.75%\n",
            "ID: Rosalind_6404\n",
            "Name: Rosalind_6404\n",
            "Description: Rosalind_6404\n",
            "Number of features: 0\n",
            "Seq('CCTGCGGAAGATCGGCACTAGAATAGCCAGAACCGTTTCTCTGAGGCTTCCGGC...AGG')\n",
            "Rosalind_5959\n",
            "CCATCGGTAGCGCATCCTTAGTCCAATTAAGTCCCTATCCAGGCGCTCCGCCGAAGGTCTATATCCATTTGTCAGCAGACACGC\n",
            "84\n",
            "GC content: 53.57%\n",
            "ID: Rosalind_5959\n",
            "Name: Rosalind_5959\n",
            "Description: Rosalind_5959\n",
            "Number of features: 0\n",
            "Seq('CCATCGGTAGCGCATCCTTAGTCCAATTAAGTCCCTATCCAGGCGCTCCGCCGA...CGC')\n",
            "Rosalind_0808\n",
            "CCACCCTCGTGGTATGGCTAGGCATTCAGGAACCGGAGAACGCTTCAGACCAGCCCGGACTGGGAACCTGCGGGCAGTAGGTGGAAT\n",
            "87\n",
            "GC content: 60.92%\n",
            "ID: Rosalind_0808\n",
            "Name: Rosalind_0808\n",
            "Description: Rosalind_0808\n",
            "Number of features: 0\n",
            "Seq('CCACCCTCGTGGTATGGCTAGGCATTCAGGAACCGGAGAACGCTTCAGACCAGC...AAT')\n"
          ]
        }
      ]
    },
    {
      "cell_type": "markdown",
      "source": [
        "####**TASK P23.2** <font color=orange> **Complete Rosalind #9  Computing GC Content**</font>"
      ],
      "metadata": {
        "id": "nJeXcQR7HwOf"
      }
    },
    {
      "cell_type": "code",
      "source": [
        "def gc_content(seq):\n",
        "    \"\"\"Calculate GC content percentage of a DNA sequence.\"\"\"\n",
        "    gc_count = seq.count('G') + seq.count('C')\n",
        "    return (gc_count / len(seq)) * 100 if len(seq) > 0 else 0\n",
        "\n",
        "def parse_fasta(filename):\n",
        "    \"\"\"Parse a FASTA file and returning a dictionary {ID: sequence}.\"\"\"\n",
        "    sequences = {}\n",
        "    with open(filename) as file:\n",
        "        seq_id = \"\"\n",
        "        seq = []\n",
        "        for line in file:\n",
        "            line = line.strip()\n",
        "            if line.startswith(\">\"):\n",
        "                if seq_id:\n",
        "                    sequences[seq_id] = \"\".join(seq)\n",
        "                seq_id = line[1:]\n",
        "                seq = []\n",
        "            else:\n",
        "                seq.append(line)\n",
        "        if seq_id:\n",
        "            sequences[seq_id] = \"\".join(seq)\n",
        "    return sequences\n",
        "\n",
        "# Loading sequences from FASTA\n",
        "sequences = parse_fasta(\"rosalind_gc.txt\")\n",
        "\n",
        "# Finding sequence with highest GC content\n",
        "max_gc_id = None\n",
        "max_gc_content = 0\n",
        "\n",
        "for seq_id, seq in sequences.items():\n",
        "    content = gc_content(seq)\n",
        "    if content > max_gc_content:\n",
        "        max_gc_content = content\n",
        "        max_gc_id = seq_id\n",
        "\n",
        "# Print result\n",
        "print(max_gc_id)\n",
        "print(f\"{max_gc_content:.6f}\")\n"
      ],
      "metadata": {
        "colab": {
          "base_uri": "https://localhost:8080/"
        },
        "id": "60jfxU7_LWf4",
        "outputId": "c6304ab0-fc2f-4055-dbb5-3c25c140b2fe"
      },
      "execution_count": 65,
      "outputs": [
        {
          "output_type": "stream",
          "name": "stdout",
          "text": [
            "Rosalind_9508\n",
            "51.525054\n"
          ]
        }
      ]
    },
    {
      "cell_type": "markdown",
      "source": [
        "####**<font color=crimson>TASK 23.3 Commit to GitHub**</font>"
      ],
      "metadata": {
        "id": "gavUUL39INzP"
      }
    },
    {
      "cell_type": "markdown",
      "source": [],
      "metadata": {
        "id": "Zf_OZq9R0dnq"
      }
    }
  ]
}